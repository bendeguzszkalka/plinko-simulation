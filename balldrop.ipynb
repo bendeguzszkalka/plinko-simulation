{
 "cells": [
  {
   "cell_type": "markdown",
   "metadata": {},
   "source": [
    "## Balldrop"
   ]
  },
  {
   "cell_type": "markdown",
   "metadata": {},
   "source": [
    "### Imports"
   ]
  },
  {
   "cell_type": "code",
   "execution_count": 257,
   "metadata": {},
   "outputs": [],
   "source": [
    "import random\n",
    "from collections import Counter as Counter\n",
    "import matplotlib.pyplot as plt\n",
    "import math"
   ]
  },
  {
   "cell_type": "markdown",
   "metadata": {},
   "source": [
    "### Variables"
   ]
  },
  {
   "cell_type": "code",
   "execution_count": 258,
   "metadata": {},
   "outputs": [],
   "source": [
    "multipliers = [0, 2, 0.5, 0, 0.5, 2, 0]"
   ]
  },
  {
   "cell_type": "markdown",
   "metadata": {},
   "source": [
    "### Main function\n",
    "Arguments: \n",
    "- `games`   - Number of iterations\n",
    "- `bet`     - Amount of bet to use at each game\n",
    "- `lines`   - Height of the plinko model\n",
    "- `mult`    - The multiplier object to use"
   ]
  },
  {
   "cell_type": "code",
   "execution_count": 259,
   "metadata": {},
   "outputs": [],
   "source": [
    "def Play(games=1, bet=500, lines=8, mult=multipliers, slots=0):\n",
    "    \n",
    "    slots_without_walls = lines + 1\n",
    "    if (slots==0):\n",
    "        slots = slots_without_walls\n",
    "    results = []\n",
    "    reward = []\n",
    "    for game in range(games):\n",
    "        r = 0\n",
    "        for line in range(lines):\n",
    "            if (random.randint(0, 1) == 1):\n",
    "                r += 1\n",
    "\n",
    "        # If the result wouldn't be symmetric, we adjust it to be symmetric\n",
    "        if (slots != slots_without_walls):\n",
    "            slot_difference = slots_without_walls - slots\n",
    "            if r == 0:\n",
    "                r = math.ceil(float(slot_difference) / 2.0)\n",
    "            elif r == lines:\n",
    "                r = lines - math.ceil(float(slot_difference) / 2.0)\n",
    "\n",
    "        results.append(r)\n",
    "        reward.append(bet*mult[r])\n",
    "    cost = games*bet\n",
    "    results_sorted = dict(sorted(Counter(results).items()))\n",
    "    print(f\"The balls fell into these holes: {results_sorted}.\")\n",
    "    print(f\"Your costs: {cost}.\")\n",
    "    print(f\"You got back: {sum(reward)}.\")\n",
    "    print(f\"Overall: {-cost + sum(reward)}\")\n",
    "    return(results_sorted)"
   ]
  },
  {
   "cell_type": "markdown",
   "metadata": {},
   "source": [
    "### Function for plotting"
   ]
  },
  {
   "cell_type": "code",
   "execution_count": 260,
   "metadata": {},
   "outputs": [],
   "source": [
    "def plot(results):\n",
    "    \n",
    "    x = list(results.keys())\n",
    "    y = list(results.values())\n",
    "\n",
    "    fig_width = len(x) * 1.0\n",
    "    fig_height = 6\n",
    "\n",
    "    plt.figure(figsize=(fig_width, fig_height))\n",
    "    plt.bar(x, y)\n",
    "    \n",
    "    plt.xlabel('Slots')\n",
    "    plt.ylabel('Number of balls in slots')\n",
    "    plt.title('Bar Plot of Plinko')\n",
    "\n",
    "    plt.legend()\n",
    "    plt.grid(True, axis='y')\n",
    "    plt.show()"
   ]
  },
  {
   "cell_type": "markdown",
   "metadata": {},
   "source": [
    "### Running the code"
   ]
  },
  {
   "cell_type": "code",
   "execution_count": null,
   "metadata": {},
   "outputs": [],
   "source": [
    "results_sorted = Play(games=1000, bet=500, lines=5, slots=5)\n",
    "plot(results_sorted)"
   ]
  }
 ],
 "metadata": {
  "kernelspec": {
   "display_name": "venv",
   "language": "python",
   "name": "python3"
  },
  "language_info": {
   "codemirror_mode": {
    "name": "ipython",
    "version": 3
   },
   "file_extension": ".py",
   "mimetype": "text/x-python",
   "name": "python",
   "nbconvert_exporter": "python",
   "pygments_lexer": "ipython3",
   "version": "3.12.7"
  }
 },
 "nbformat": 4,
 "nbformat_minor": 2
}
