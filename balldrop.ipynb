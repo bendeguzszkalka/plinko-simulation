{
 "cells": [
  {
   "cell_type": "markdown",
   "metadata": {},
   "source": [
    "## Balldrop"
   ]
  },
  {
   "cell_type": "markdown",
   "metadata": {},
   "source": [
    "### Imports"
   ]
  },
  {
   "cell_type": "code",
   "execution_count": 6,
   "metadata": {},
   "outputs": [],
   "source": [
    "import random\n",
    "from collections import Counter as Counter\n",
    "import matplotlib.pyplot as plt"
   ]
  },
  {
   "cell_type": "markdown",
   "metadata": {},
   "source": [
    "### Variables"
   ]
  },
  {
   "cell_type": "code",
   "execution_count": 7,
   "metadata": {},
   "outputs": [],
   "source": [
    "multipliers = [0, 2, 0.5, 0, 0.5, 2, 0]"
   ]
  },
  {
   "cell_type": "markdown",
   "metadata": {},
   "source": [
    "### Main function\n",
    "Arguments: \n",
    "- `games`   - Number of iterations\n",
    "- `bet`     - Amount of bet to use at each game\n",
    "- `lines`   - Height of the plinko model\n",
    "- `mult`    - The multiplier object to use"
   ]
  },
  {
   "cell_type": "code",
   "execution_count": 8,
   "metadata": {},
   "outputs": [],
   "source": [
    "def Play(games=1, bet=500, lines=8, mult=multipliers):\n",
    "    results = []\n",
    "    reward = []\n",
    "    for game in range(games):\n",
    "        r = 0\n",
    "        for line in range(lines):\n",
    "            if (random.randint(0, 1) == 1):\n",
    "                r += 1\n",
    "\n",
    "        # adjusted for walls being present\n",
    "        if r == 0:\n",
    "            r = 1\n",
    "        elif r == lines:\n",
    "            r = lines - 1\n",
    "\n",
    "        results.append(r)\n",
    "        reward.append(bet*mult[r])\n",
    "    cost = games*bet\n",
    "    results_sorted = dict(sorted(Counter(results).items()))\n",
    "    print(f\"The balls fell into these holes: {results_sorted}.\")\n",
    "    print(f\"Your costs: {cost}.\")\n",
    "    print(f\"You got back: {sum(reward)}.\")\n",
    "    print(f\"Overall: {-cost + sum(reward)}\")\n",
    "    return(results_sorted)"
   ]
  },
  {
   "cell_type": "markdown",
   "metadata": {},
   "source": [
    "### Function for plotting"
   ]
  },
  {
   "cell_type": "code",
   "execution_count": 9,
   "metadata": {},
   "outputs": [],
   "source": [
    "def plot(data):\n",
    "    \n",
    "    x = list(data.keys())\n",
    "    y = list(data.values())\n",
    "\n",
    "    fig_width = len(x) * 1.0\n",
    "    fig_height = 6\n",
    "\n",
    "    plt.figure(figsize=(fig_width, fig_height))\n",
    "    plt.bar(x, y)\n",
    "    \n",
    "    plt.xlabel('Slots')\n",
    "    plt.ylabel('Number of balls in slots')\n",
    "    plt.title('Bar Plot of Plinko')\n",
    "\n",
    "    plt.legend()\n",
    "    plt.grid(True, axis='y')\n",
    "    plt.show()"
   ]
  },
  {
   "cell_type": "markdown",
   "metadata": {},
   "source": [
    "### Running the code"
   ]
  },
  {
   "cell_type": "code",
   "execution_count": 10,
   "metadata": {},
   "outputs": [
    {
     "name": "stdout",
     "output_type": "stream",
     "text": [
      "The balls fell into these holes: {1: 95, 2: 238, 3: 314, 4: 248, 5: 105}.\n",
      "Your costs: 500000.\n",
      "You got back: 321500.0.\n",
      "Overall: -178500.0\n"
     ]
    },
    {
     "name": "stderr",
     "output_type": "stream",
     "text": [
      "/var/folders/9s/l6r044ns1n701jn7g79w6l180000gn/T/ipykernel_7925/1684440034.py:16: UserWarning: No artists with labels found to put in legend.  Note that artists whose label start with an underscore are ignored when legend() is called with no argument.\n",
      "  plt.legend()\n"
     ]
    },
    {
     "data": {
      "image/png": "[encoded data removed]",
      "text/plain": [
       "<Figure size 500x600 with 1 Axes>"
      ]
     },
     "metadata": {},
     "output_type": "display_data"
    }
   ],
   "source": [
    "results_sorted = Play(games=1000, bet=500, lines=6)\n",
    "plot(results_sorted)"
   ]
  }
 ],
 "metadata": {
  "kernelspec": {
   "display_name": "venv",
   "language": "python",
   "name": "python3"
  },
  "language_info": {
   "codemirror_mode": {
    "name": "ipython",
    "version": 3
   },
   "file_extension": ".py",
   "mimetype": "text/x-python",
   "name": "python",
   "nbconvert_exporter": "python",
   "pygments_lexer": "ipython3",
   "version": "3.12.7"
  }
 },
 "nbformat": 4,
 "nbformat_minor": 2
}
