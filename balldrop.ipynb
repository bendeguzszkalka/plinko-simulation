{
 "cells": [
  {
   "cell_type": "markdown",
   "metadata": {},
   "source": [
    "## Balldrop"
   ]
  },
  {
   "cell_type": "markdown",
   "metadata": {},
   "source": [
    "### Imports"
   ]
  },
  {
   "cell_type": "code",
   "execution_count": 112,
   "metadata": {},
   "outputs": [],
   "source": [
    "import random\n",
    "from collections import Counter as Counter\n",
    "import matplotlib.pyplot as plt\n",
    "import math"
   ]
  },
  {
   "cell_type": "markdown",
   "metadata": {},
   "source": [
    "### Variables"
   ]
  },
  {
   "cell_type": "code",
   "execution_count": 113,
   "metadata": {},
   "outputs": [],
   "source": [
    "multipliers = [0, 2, 0.5, 0, 0.5, 2, 0]"
   ]
  },
  {
   "cell_type": "markdown",
   "metadata": {},
   "source": [
    "### Main function\n",
    "Arguments: \n",
    "- `games`   - Number of iterations\n",
    "- `bet`     - Amount of bet to use at each game\n",
    "- `lines`   - Height of the plinko model\n",
    "- `mult`    - The multiplier object to use"
   ]
  },
  {
   "cell_type": "code",
   "execution_count": 114,
   "metadata": {},
   "outputs": [],
   "source": [
    "def Play(games=1, bet=500, lines=8, mult=multipliers, slots=0):\n",
    "    \n",
    "    slots_without_walls = lines + 1\n",
    "    if (slots==0):\n",
    "        slots = slots_without_walls\n",
    "    results = []\n",
    "    reward = []\n",
    "    for game in range(games):\n",
    "        r = 0\n",
    "        for line in range(lines):\n",
    "            if (random.randint(0, 1) == 1):\n",
    "                r += 1\n",
    "\n",
    "        # If the result wouldn't be symmetric, we adjust it to be symmetric\n",
    "        if (slots != slots_without_walls):\n",
    "            slot_difference = slots_without_walls - slots\n",
    "            if r == 0:\n",
    "                r = math.ceil(float(slot_difference) / 2.0)\n",
    "            elif r == lines:\n",
    "                r = lines - math.ceil(float(slot_difference) / 2.0)\n",
    "\n",
    "        results.append(r)\n",
    "        reward.append(bet*mult[r])\n",
    "    cost = games*bet\n",
    "    results_sorted = dict(sorted(Counter(results).items()))\n",
    "    print(f\"The balls fell into these holes: {results_sorted}.\")\n",
    "    print(f\"Your costs: {cost}.\")\n",
    "    print(f\"You got back: {sum(reward)}.\")\n",
    "    print(f\"Overall: {-cost + sum(reward)}\")\n",
    "    return(results_sorted)"
   ]
  },
  {
   "cell_type": "markdown",
   "metadata": {},
   "source": [
    "### Function for plotting"
   ]
  },
  {
   "cell_type": "code",
   "execution_count": 115,
   "metadata": {},
   "outputs": [],
   "source": [
    "def plot(results):\n",
    "    \n",
    "    x = list(results.keys())\n",
    "    y = list(results.values())\n",
    "\n",
    "    fig_width = len(x) * 1.0\n",
    "    fig_height = 6\n",
    "\n",
    "    plt.figure(figsize=(fig_width, fig_height))\n",
    "    plt.bar(x, y)\n",
    "    \n",
    "    plt.xlabel('Slots')\n",
    "    plt.ylabel('Number of balls in slots')\n",
    "    plt.title('Bar Plot of Plinko')\n",
    "\n",
    "    plt.legend()\n",
    "    plt.grid(True, axis='y')\n",
    "    plt.show()"
   ]
  },
  {
   "cell_type": "markdown",
   "metadata": {},
   "source": [
    "### Running the code"
   ]
  },
  {
   "cell_type": "code",
   "execution_count": 116,
   "metadata": {},
   "outputs": [
    {
     "name": "stdout",
     "output_type": "stream",
     "text": [
      "The balls fell into these holes: {1: 199, 2: 277, 3: 320, 4: 204}.\n",
      "Your costs: 500000.\n",
      "You got back: 319250.0.\n",
      "Overall: -180750.0\n"
     ]
    },
    {
     "name": "stderr",
     "output_type": "stream",
     "text": [
      "/var/folders/9s/l6r044ns1n701jn7g79w6l180000gn/T/ipykernel_8282/3782953362.py:16: UserWarning: No artists with labels found to put in legend.  Note that artists whose label start with an underscore are ignored when legend() is called with no argument.\n",
      "  plt.legend()\n"
     ]
    },
    {
     "data": {
      "image/png": "[encoded data removed]",
      "text/plain": [
       "<Figure size 400x600 with 1 Axes>"
      ]
     },
     "metadata": {},
     "output_type": "display_data"
    }
   ],
   "source": [
    "results_sorted = Play(games=1000, bet=500, lines=5, slots=5)\n",
    "plot(results_sorted)"
   ]
  }
 ],
 "metadata": {
  "kernelspec": {
   "display_name": "venv",
   "language": "python",
   "name": "python3"
  },
  "language_info": {
   "codemirror_mode": {
    "name": "ipython",
    "version": 3
   },
   "file_extension": ".py",
   "mimetype": "text/x-python",
   "name": "python",
   "nbconvert_exporter": "python",
   "pygments_lexer": "ipython3",
   "version": "3.12.7"
  }
 },
 "nbformat": 4,
 "nbformat_minor": 2
}
